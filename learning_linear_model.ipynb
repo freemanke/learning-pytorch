{
 "cells": [
  {
   "cell_type": "markdown",
   "metadata": {
    "collapsed": true,
    "pycharm": {
     "name": "#%% md\n"
    }
   },
   "source": [
    "# 构造保存和加载模型"
   ]
  },
  {
   "cell_type": "code",
   "execution_count": 38,
   "outputs": [
    {
     "data": {
      "text/plain": "<Figure size 432x288 with 1 Axes>",
      "image/png": "[encoded data removed]"
     },
     "metadata": {
      "needs_background": "light"
     },
     "output_type": "display_data"
    },
    {
     "name": "stdout",
     "output_type": "stream",
     "text": [
      "('weight', Parameter containing:\n",
      "tensor([2.0367], requires_grad=True))\n",
      "('bias', Parameter containing:\n",
      "tensor([3.5620], requires_grad=True))\n",
      "OrderedDict([('weight', tensor([2.0367])), ('bias', tensor([3.5620]))])\n",
      "('weight', Parameter containing:\n",
      "tensor([2.0367], requires_grad=True))\n",
      "('bias', Parameter containing:\n",
      "tensor([3.5620], requires_grad=True))\n",
      "('weight', Parameter containing:\n",
      "tensor([2.0367], requires_grad=True))\n",
      "('bias', Parameter containing:\n",
      "tensor([3.5620], requires_grad=True))\n"
     ]
    }
   ],
   "source": [
    "import numpy as np\n",
    "import random\n",
    "from matplotlib import pyplot as plt\n",
    "import torch\n",
    "from torch import nn\n",
    "\n",
    "w = 2\n",
    "b = 3\n",
    "x_limit = [-10, 10]\n",
    "x_train = np.random.randint(low=x_limit[0], high=x_limit[1], size=30)\n",
    "y_train = [w*x+b+random.randint(0,2) for x in x_train]\n",
    "plt.plot(x_train, y_train, 'bo')\n",
    "plt.show()\n",
    "\n",
    "# 创建一个模型\n",
    "class LinearModel(nn.Module):\n",
    "  def __init__(self):\n",
    "    super().__init__()\n",
    "    self.weight = nn.Parameter(torch.randn(1))\n",
    "    self.bias = nn.Parameter(torch.randn(1))\n",
    "\n",
    "  def forward(self, input):\n",
    "    return (input * self.weight) + self.bias\n",
    "\n",
    "# 训练模型\n",
    "model = LinearModel()\n",
    "optimizer = torch.optim.SGD(model.parameters(), lr=1e-4, weight_decay=1e-2,momentum=0.9 )\n",
    "y_train = torch.tensor(y_train, dtype=torch.float32)\n",
    "for _ in torch.arange(0,1000):\n",
    "    input = torch.from_numpy(x_train)\n",
    "    output = model(input)\n",
    "    loss = nn.MSELoss()(output, y_train)\n",
    "    model.zero_grad()\n",
    "    loss.backward()\n",
    "    optimizer.step()\n",
    "\n",
    "# 查看模型参数\n",
    "for parameter in model.named_parameters():\n",
    "    print(parameter)\n",
    "print(model.state_dict())\n",
    "\n",
    "# 保存和加载网络参数\n",
    "torch.save(model.state_dict(), './temp/linear_model_parameters.pth')\n",
    "linear_model = LinearModel()\n",
    "linear_model.load_state_dict(torch.load('./temp/linear_model_parameters.pth'))\n",
    "linear_model.eval()\n",
    "for parameter in linear_model.named_parameters():\n",
    "    print(parameter)\n",
    "\n",
    "# 保存和加载网络结构和参数\n",
    "torch.save(model, './temp/linear_model.pth')\n",
    "linear_model2 = torch.load('./temp/linear_model.pth')\n",
    "linear_model2.eval()\n",
    "for parameter in linear_model2.named_parameters():\n",
    "    print(parameter)"
   ],
   "metadata": {
    "collapsed": false,
    "pycharm": {
     "name": "#%%\n"
    }
   }
  }
 ],
 "metadata": {
  "kernelspec": {
   "display_name": "Python 3",
   "language": "python",
   "name": "python3"
  },
  "language_info": {
   "codemirror_mode": {
    "name": "ipython",
    "version": 2
   },
   "file_extension": ".py",
   "mimetype": "text/x-python",
   "name": "python",
   "nbconvert_exporter": "python",
   "pygments_lexer": "ipython2",
   "version": "2.7.6"
  }
 },
 "nbformat": 4,
 "nbformat_minor": 0
}